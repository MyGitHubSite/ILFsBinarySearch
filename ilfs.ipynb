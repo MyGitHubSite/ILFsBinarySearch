{
 "cells": [
  {
   "cell_type": "markdown",
   "metadata": {},
   "source": [
    "# 126x Faster Increased Limit Factor Calculations Using Binary Search\n",
    "\n",
    "## Background\n",
    "\n",
    "Actuaries calculate Increased Limit Factors (ILFs) to price various types of non-property insurance policies. With the increasing sizes of databases available to Actuaries, standard tools built in Excel start to slow to a crawl and many Actuaries have turned to R and Python to do their heavy lifting.\n",
    "\n",
    "This notebook shows two approaches to calculating ILFs given a database of trended and developed losses, the first being an intuitive but \"naive\" approach, the other being less intuitive but magnitudes faster for large datasets.\n",
    "\n",
    "While a deep understanding of ILFs is not needed to adopt the concepts in this notebook to other Actuarial problems, for those who are interested you can read about [ILFs here](https://www.casact.org/library/studynotes/palmer.pdf). Here we will focus on the main problem of calculating Limited Losses at various breakpoints and make simplifying assumptions.\n"
   ]
  },
  {
   "cell_type": "markdown",
   "metadata": {},
   "source": [
    "## Breaking Down the Problem\n",
    "\n",
    "Our goal is to calculate indemnity only ILFs using the loss listing we've been provided with. The ILF at limit L is calculated as:\n",
    "\n",
    "$$\n",
    "\\begin{align}\n",
    "ILF(L) = \\frac{Limited\\,Average\\,Severity\\,(L)}{Limited\\,Average\\,Severity\\,(B)}\n",
    "\\end{align}\n",
    "$$\n",
    "\n",
    "The limited average severity is calculated simply by capping each of the losses to the corresponding limit, and taking the average of all the capped losses. For example, if we have three losses 54,000, 145,000 and 1,100,000, calculating the Limited Average Severity at 100,000 and 1,000,000 is as follows:\n",
    "\n",
    "$$\n",
    "LAS(100,000) = \\frac{54,000 + 100,000 + 100,000}{3} = 84,666\n",
    "$$\n",
    "\n",
    "| Loss # | Total Loss | Limited to 100,000 | Limited to 1,000,000 |\n",
    "|--------|------------|--------------------|----------------------|\n",
    "| 1      | 54,000     | 54,000             | 54,000               |\n",
    "| 2      | 145,000    | 100,000            | 145,000              |\n",
    "| 3      | 1,100,000  | 100,000            | 1,000,000            |\n",
    "| LAS    | 433,000    | 84,666             | 399,666              |\n",
    "\n",
    "\n"
   ]
  },
  {
   "cell_type": "markdown",
   "metadata": {},
   "source": [
    "## Setup\n",
    "\n",
    "### Data Simulation\n",
    "\n",
    "Using the emperical data on page 6 [of the above paper](https://www.casact.org/library/studynotes/palmer.pdf), I've fit a LogNormal distribution in R and simulated 1,000,000 losses. I've stored them in a simple PostgresSQL database. "
   ]
  },
  {
   "cell_type": "code",
   "execution_count": 1,
   "metadata": {},
   "outputs": [
    {
     "data": {
      "text/plain": "<Figure size 432x288 with 1 Axes>",
      "image/png": "[encoded data removed]"
     },
     "metadata": {
      "needs_background": "light"
     },
     "output_type": "display_data"
    }
   ],
   "source": [
    "import numpy as np\n",
    "import matplotlib.pyplot as plt\n",
    "import pandas as pd\n",
    "from time import time\n",
    "import psycopg2 #<- Postgres utilities\n",
    "\n",
    "# R Fit:\n",
    "# meanlog sdlog\n",
    "# 11.50090134 0.84695921\n",
    "\n",
    "mean = 11.50090134\n",
    "sd = 0.84695921\n",
    "\n",
    "x=[]\n",
    "\n",
    "for i in range(1000000):\n",
    "    x.append(np.random.lognormal(mean,sd))\n",
    "\n",
    "# Sample Code for Inserting data into PostgresSQL\n",
    "#for i in range(len(x)):\n",
    "#    cur.execute(\"INSERT INTO liabdata (policyid, loss) VALUES (%s, %s)\", (i, x[i]))\n",
    "\n",
    "# Plot source code: https://docs.scipy.org/doc/numpy-1.10.1/reference/generated/numpy.random.lognormal.html\n",
    "y = np.linspace(1, 5000000,1000)\n",
    "pdf = (np.exp(-(np.log(y) - mean)**2 / (2 * sd**2)) / (y * mean * np.sqrt(2 * np.pi)))\n",
    "plt.plot( y, pdf, linewidth=2, color='r')\n",
    "plt.axis('tight')\n",
    "plt.title(\"PDF of Simulated Losses\")\n",
    "plt.show()\n"
   ]
  },
  {
   "cell_type": "markdown",
   "metadata": {},
   "source": [
    "### Variable Declaration\n",
    "\n",
    "For this exercise, we're going to only use the first 100,000 records as otherwise you'll be waiting all day for the first algorithm to run. We'll soon see that the alternative method can process all 1M records with great efficiency.\n",
    "\n",
    "I've provided code below to show how the data could be pulled from a PostgresSQL - for purposes of this Notebook we'll use the freshly simulated losses above. We'll also declare limits at which we want to calculate our ILFs."
   ]
  },
  {
   "cell_type": "code",
   "execution_count": 2,
   "metadata": {},
   "outputs": [
    {
     "name": "stdout",
     "output_type": "stream",
     "text": [
      "Sample Losses\n",
      "1     90823.847667\n",
      "2    184309.965162\n",
      "3     12055.954492\n",
      "4    161196.093325\n",
      "5     40252.833780\n",
      "6    196617.820361\n",
      "7     65287.683064\n",
      "8     78439.947662\n",
      "9    187492.154941\n",
      "dtype: float64\n"
     ]
    }
   ],
   "source": [
    "# Sample Code for pulling data from PostgresSQL\n",
    "#conn = psycopg2.connect(\"dbname=actuar user=ryanwilkins\")\n",
    "#sql = \"SELECT * FROM liabdata\"\n",
    "#data = pd.read_sql_query(sql, conn)\n",
    "#losses = data[\"loss\"][0:100000].copy()\n",
    "\n",
    "losses = pd.Series(x)[0:100000].copy()\n",
    "\n",
    "# Define our Limits\n",
    "# Subset: Each 100K band from 100k to 1M\n",
    "limits = [(i+1)*100000 for i in range(10)]\n",
    "# All: Each 100K band from 100k to 25M\n",
    "limits_all = [(i+1)*100000 for i in range(250)]\n",
    "\n",
    "print(\"Sample Losses\")\n",
    "print(losses[1:10])"
   ]
  },
  {
   "cell_type": "markdown",
   "metadata": {},
   "source": [
    "# The Naive Algorithm\n",
    "\n",
    "When programmers talk about Naive algorithms, they're not taking a knock at the intelligence of the person who wrote it, rather stating that the alogorithm itself is simple. This approach uses a brute force approach, comparing each loss to each limit:\n",
    "___\n",
    "\n",
    "<span style=\"color:blue; font-size:1.5em\">Naive Algorithm for Calculating Limited Average Severity</span>\n",
    "\n",
    "* For Each Limit of Interest, $L$\n",
    "    * Loop through each loss `l`    \n",
    "        * Create a storage array, `temp`    \n",
    "        * if `l` < $L$:                \n",
    "            * Append `l` to `temp`                   \n",
    "        * else if `l` >= $L$:                \n",
    "            * Append $L$ to `temp`                        \n",
    "    * Take the average of `temp` and store in `Limited Losses` dictionary, at index $L$\n",
    "    * Repeat for next $L$\n",
    "* Output LL\n",
    "___\n",
    "\n",
    "\n",
    "            \n",
    "            \n",
    "The block below shows this algorithm coded into Python."
   ]
  },
  {
   "cell_type": "code",
   "execution_count": 3,
   "metadata": {},
   "outputs": [],
   "source": [
    "def naive_limited_loss(limits, losses):\n",
    "    \n",
    "    # Store the average limited losses in a dict\n",
    "    LL = {}\n",
    "    \n",
    "    for i in range(len(limits)):\n",
    "        \n",
    "        # Storage Array\n",
    "        temp = [0] * len(losses)\n",
    "        curr_limit = limits[i]\n",
    "        \n",
    "        # Iterate through losses (n calls)\n",
    "        for j in range(len(losses)):\n",
    "            if curr_limit < losses[j]:\n",
    "                temp[j] = curr_limit\n",
    "            else:\n",
    "                temp[j] = losses[j]\n",
    "                \n",
    "        # Store average in result dictionary\n",
    "        LL[curr_limit] = np.mean(temp)\n",
    "\n",
    "    return LL"
   ]
  },
  {
   "cell_type": "markdown",
   "metadata": {},
   "source": [
    "### Running the Naive Algorithm\n",
    "\n",
    "Using the 10 limits we defined above, let's run and output the LAS results as well as the time it takes to run."
   ]
  },
  {
   "cell_type": "code",
   "execution_count": 4,
   "metadata": {
    "scrolled": true
   },
   "outputs": [
    {
     "name": "stdout",
     "output_type": "stream",
     "text": [
      "     Limit            LAS\n",
      "0   100000   77889.543239\n",
      "1   200000  110010.325722\n",
      "2   300000  123958.230706\n",
      "3   400000  130830.905213\n",
      "4   500000  134527.218097\n",
      "5   600000  136688.077623\n",
      "6   700000  138034.149015\n",
      "7   800000  138884.671085\n",
      "8   900000  139442.343075\n",
      "9  1000000  139824.791256\n",
      "Naive Limited Losses Running Time: 19.038751125335693\n"
     ]
    }
   ],
   "source": [
    "t1 = time()\n",
    "naive_ll = naive_limited_loss(limits, losses)\n",
    "t2 = time()\n",
    "\n",
    "naivedf = pd.DataFrame(naive_ll.items())\n",
    "naivedf.columns = [\"Limit\", \"LAS\"]\n",
    "\n",
    "print(naivedf)\n",
    "\n",
    "print(\"Naive Limited Losses Running Time: {}\".format(t2-t1))"
   ]
  },
  {
   "cell_type": "markdown",
   "metadata": {},
   "source": [
    "At the time of writing this, my machine displays a running time of <b> 18.73 </b> seconds. If you're thinking to yourself \"That doesn't sound that long!\" just remember that we're only looking at a *small* fraction of the available data, and to Actuaries working at large national carriers, that might not even be a fraction of what they have access too! Let's do a rough calculation on what we could expect the running time of the full dataset with all 250 limits to be:\n",
    "\n",
    "$$\n",
    "Running\\;Time\\;Estimate: 18.73\\,sec * \\frac{250}{10} \\, Limits * \\frac{1M}{100K} \\, Records = 4,682\\,seconds = 78 \\;Minutes! \n",
    "$$"
   ]
  },
  {
   "cell_type": "markdown",
   "metadata": {},
   "source": [
    "### Examining the Runtime of the Naive Algorithm\n",
    "\n",
    "Clearly, this algorithm is not efficient for very large datasets. Although it may give you an excuse to take a longer lunch break, if you're trying to run this on a frequent basis it will get tiresome quickly.\n",
    "\n",
    "Why is it so slow? The answer lies in looking at it's [Big-O](https://en.wikipedia.org/wiki/Big_O_notation) Runtime. Don't worry if you're not familiar with Big-O, we can still examine the algorithm and figure out the flaw.\n",
    "\n",
    "The key is in the nested for loop in the alogrithm. Take another look at this snippet of code. Roughly, how many calculations do we have to do?\n"
   ]
  },
  {
   "cell_type": "code",
   "execution_count": 5,
   "metadata": {},
   "outputs": [],
   "source": [
    "# Each Limit is one call - len(limits) total\n",
    "for i in range(len(limits)):\n",
    "    ...\n",
    "    # Iterate through losses - len(losses) total\n",
    "    for j in range(len(losses)):\n",
    "        ..."
   ]
  },
  {
   "cell_type": "markdown",
   "metadata": {},
   "source": [
    "In our small example, we're doing $len(limits) * len(losses) = 10 * 100k = 1,000,000$ calculations! The work done in this algorithm scales with the number of records, and is multiplied by a constant for the number of limits we example, and thus runs on $\\mathcal{O}(kn)$ time."
   ]
  },
  {
   "cell_type": "markdown",
   "metadata": {
    "collapsed": true
   },
   "source": [
    "# Setup For The Efficient Algorithm\n",
    "\n",
    "The key step in the efficient setup involves first **sorting** the losses. Sorting is a fundamental concept in computer science, and there are a wide range of algorithms with different runtimes. Our data is straightforward enough that we can use [QuickSort](https://en.wikipedia.org/wiki/Quicksort), which luckily `pandas` has built right in.\n",
    "\n",
    "Note that when comparing our new algorithm to the old, we have to be fair and include the time it takes to sort the data. "
   ]
  },
  {
   "cell_type": "code",
   "execution_count": 6,
   "metadata": {},
   "outputs": [
    {
     "name": "stdout",
     "output_type": "stream",
     "text": [
      "QuickSort Running Time: 0.02524590492248535\n"
     ]
    }
   ],
   "source": [
    "t3 = time()\n",
    "\n",
    "losses.sort_values(kind=\"quicksort\", inplace=True)\n",
    "losses = losses.reset_index(drop=True)\n",
    "\n",
    "t4 = time()\n",
    "\n",
    "print(\"QuickSort Running Time: {}\".format(t4-t3))"
   ]
  },
  {
   "cell_type": "markdown",
   "metadata": {},
   "source": [
    "## Binary Search \n",
    "\n",
    "The new algorithm will be based around the [Binary Search Algorithm](https://en.wikipedia.org/wiki/Binary_search_algorithm). The BSA will return the `index` of a search value `x` from a **sorted** array `arr`, with at most $\\log{}(n)$ (to be precise - $\\log{}_{2}(n)$) calls. How fast is $\\log{}(n)$? Let's examine the number of calls to the sort function needed in the worst case, versus [Linear Search](https://en.wikipedia.org/wiki/Linear_search) (searching left to right):\n",
    "\n",
    "| Number of Records | Linear Search O(n) | Binary Search O(log n) |\n",
    "|-------------------|--------------------|------------------------|\n",
    "| 100               | 100                | 7                      |\n",
    "| 1,000             | 1,000              | 10                     |\n",
    "| 100,000           | 100,000            | 17                     |\n",
    "| 1,000,000         | 1,000,000          | 20                     |\n",
    "\n",
    "Here I have written a custom Binary Search function. Note there are many available pre-made options out there, however because this is the focal pont of our analysis I want to explicitly show how it works. Optimizing this function for all the corner cases (i.e. loss list of size 0) is an exercise left up to the reader."
   ]
  },
  {
   "cell_type": "code",
   "execution_count": 7,
   "metadata": {},
   "outputs": [],
   "source": [
    "def bin_loss_search(losses, x, l ,r):\n",
    "    if l<r:\n",
    "        m = (l+r)//2\n",
    "        if (losses[m] <= x) and (losses[m+1] >= x):\n",
    "            # Return the index to the closest matching loss\n",
    "            return m\n",
    "        if losses[m] < x:\n",
    "            return bin_loss_search(losses, x, m, r)\n",
    "        else:\n",
    "            return bin_loss_search(losses, x, l, m)"
   ]
  },
  {
   "cell_type": "markdown",
   "metadata": {},
   "source": [
    "A quick test of `bin_loss_search` should show it working as expected:"
   ]
  },
  {
   "cell_type": "code",
   "execution_count": 8,
   "metadata": {},
   "outputs": [
    {
     "name": "stdout",
     "output_type": "stream",
     "text": [
      "The index of the first loss >= 1M is 99676. Surrounding losses: 999403.0750694824, 999565.091724513, 1000266.0079334187\n"
     ]
    }
   ],
   "source": [
    "# Find the position where 1M losses start:\n",
    "mil_loss_index = bin_loss_search(losses, 1000000, 0 , len(losses)-1)\n",
    "print(\"The index of the first loss >= 1M is {}. Surrounding losses: {}, {}, {}\".format(mil_loss_index,\n",
    "                                                                                       losses[mil_loss_index-1],\n",
    "                                                                                       losses[mil_loss_index],\n",
    "                                                                                       losses[mil_loss_index+1]))"
   ]
  },
  {
   "cell_type": "markdown",
   "metadata": {},
   "source": [
    "## Defining The Efficient Algorithm\n",
    "\n",
    "Before we write the algorithm, take a second to consider what we know about our data so far:\n",
    "\n",
    "1. The `losses` are sorted from smallest to largest\n",
    "2. `bin_loss_search` return the index for the first loss equal to or greater than the input\n",
    "3. All losses after the `bin_loss_search` index will be greater than the input \n",
    "\n",
    "___\n",
    "\n",
    "<span style=\"color:blue; font-size:1.5em\">Efficient Algorithm for Calculating Limited Average Severity</span>\n",
    "\n",
    "1. Sort `losses`\n",
    "2. With Sorted `losses`:\n",
    "    * For Each Limit, $L$:\n",
    "        * Using `bin_loss_search` find index $i_{L}$ in `losses` where `losses[i_L]` $<= L <=$  `losses[i_L + 1]`\n",
    "        * Create `temp` of length `len(losses)`\n",
    "        * Set `temp[0:i_l]` = `losses[0:i_l]`\n",
    "        * Set `temp[i_l:len(losses)]` = $L$\n",
    "        * Take the average of `temp` and store in `LL`\n",
    "3. Return `LL`\n",
    "    \n",
    "___\n",
    "\n",
    "In code:\n"
   ]
  },
  {
   "cell_type": "code",
   "execution_count": 9,
   "metadata": {},
   "outputs": [],
   "source": [
    "def quick_limited_loss(limits, losses):\n",
    "    LL = {}\n",
    "\n",
    "    for i in range(len(limits)):\n",
    "        \n",
    "        curr_limit = limits[i]\n",
    "        curr_index = bin_loss_search(losses, curr_limit, 0, len(losses)-1)\n",
    "        temp = [0] * len(losses)\n",
    "        temp[0:curr_index] = losses[0:curr_index]\n",
    "        temp[curr_index:len(losses)] = [curr_limit] * (len(losses)-curr_index)\n",
    "\n",
    "        LL[curr_limit] = np.mean(temp)\n",
    "\n",
    "    return LL"
   ]
  },
  {
   "cell_type": "markdown",
   "metadata": {},
   "source": [
    "See the difference? By using the fact that we know the `losses` are now in order, we can totally avoid looping through the whole dataset for each limit, and in fact the only computation needed for each limit involves setting up the `temp` array!"
   ]
  },
  {
   "cell_type": "markdown",
   "metadata": {},
   "source": [
    "### Running the Efficient Algorithm\n",
    "\n",
    "Using the same input as above, let's run `quick_limited_loss` and see if the output matches."
   ]
  },
  {
   "cell_type": "code",
   "execution_count": 10,
   "metadata": {},
   "outputs": [
    {
     "name": "stdout",
     "output_type": "stream",
     "text": [
      "     Limit            LAS\n",
      "0   100000   77889.543244\n",
      "1   200000  110010.325794\n",
      "2   300000  123958.230950\n",
      "3   400000  130830.905407\n",
      "4   500000  134527.219146\n",
      "5   600000  136688.080328\n",
      "6   700000  138034.149359\n",
      "7   800000  138884.671459\n",
      "8   900000  139442.347283\n",
      "9  1000000  139824.795605\n",
      "Quick Limited Loss Run Time: 0.2436990737915039\n",
      "Including Sort Run Time: 0.26894497871398926\n"
     ]
    }
   ],
   "source": [
    "t5 = time()\n",
    "quick_ll = quick_limited_loss(limits, losses)\n",
    "t6 = time()\n",
    "\n",
    "quickdf = pd.DataFrame(quick_ll.items())\n",
    "quickdf.columns = [\"Limit\", \"LAS\"]\n",
    "\n",
    "print(quickdf)\n",
    "\n",
    "print(\"Quick Limited Loss Run Time: {}\".format(t6-t5))\n",
    "print(\"Including Sort Run Time: {}\".format(t4-t3+t6-t5))"
   ]
  },
  {
   "cell_type": "markdown",
   "metadata": {},
   "source": [
    "The runtime of this algorithm on my machine, including the QuickSort, is **0.175 seconds**! Nice! \n",
    "\n",
    "Using the same exercise as before, let's estimate the runtime for the whole dataset and all limits. Noting that the 10 limits took **0.1576 seconds**, and ignoring the marginal extra time to sort 900K more records (thanks QuickSort!), a rough runtime estimate is:\n",
    "\n",
    "$$\n",
    "Running\\;Time\\;Estimate: 0.1576\\,sec * \\frac{250}{10} \\, Limits * \\frac{1M}{100K} \\, Records = 39.42 \\; seconds\n",
    "$$\n",
    "\n",
    "Actually running the algorithm on my machine shows that our estimate is pretty accurate:"
   ]
  },
  {
   "cell_type": "raw",
   "metadata": {},
   "source": [
    "quick_ll = quick_limited_loss(limits_all, losses)\n",
    "\n",
    "Quick Limited Loss Time: 41.98586583137512\n",
    "Including Sort Time: 42.1377968788147"
   ]
  },
  {
   "cell_type": "markdown",
   "metadata": {},
   "source": [
    "### Examining the Runtime of the Efficient Algorithm\n",
    "\n",
    "Why is this new algorithm so much faster? As we've already discussed, this new algorithm only needs to create the `temp` array, and doesn't need to use a `for` loops to make `len(losses)` comparisons for each $L$. \n",
    "\n",
    "Let's look at the running time each step of the algorithm:\n",
    "\n",
    "* QuickSort: $\\mathcal{O}(n\\log{}n)$ (Average): Though worst case QuickSort runs in $\\mathcal{O}(n^2)$ time, for all practical applications the average speed is applicable. Our example above has shown that the `pandas` implementation of QuickSort is fast enough to sort 1M records in negligible time.\n",
    "\n",
    "* BinSearch: $\\mathcal{O}(\\log{}n)$: As discussed, the numbers of calls to BinSearch are at most ~17 for our 100,000 records.\n",
    "\n",
    "* Limits Loop: $\\mathcal{O}(k\\log{}n)$: For each limit in the table, we do a binary search, and an additional amount of work that scales with n to provision `temp`, but it negligable when compared to $k\\log{}n$.\n",
    "\n",
    "The smart reader will notice that for small values of `n` and `k`, it's possible for the Naive algorithm to outperform the Efficient algorithm. However, for any study with numbers that small, Excel would probably suffice.\n",
    "\n",
    "How much faster is the Efficient algorithm? Let's take a look at our example of 10 limits and 100,000 records:"
   ]
  },
  {
   "cell_type": "code",
   "execution_count": 11,
   "metadata": {},
   "outputs": [
    {
     "name": "stdout",
     "output_type": "stream",
     "text": [
      "Naive Method Total Time:19.038751125335693\n",
      "Sorted Method Total Time: 0.26894497871398926\n",
      "Naive Method Time Relative to Sorted: 70.79050598517601\n"
     ]
    }
   ],
   "source": [
    "print(\"Naive Method Total Time:{}\".format(t2-t1))\n",
    "print(\"Sorted Method Total Time: {}\".format(t4-t3+t6-t5))\n",
    "print(\"Naive Method Time Relative to Sorted: {}\".format((t2-t1)/(t4-t3+t6-t5)))"
   ]
  },
  {
   "cell_type": "markdown",
   "metadata": {},
   "source": [
    "$$\n",
    "Slow\\;Algorithm: 20.18\\;Seconds\n",
    "$$\n",
    "$$\n",
    "Fast\\;Algorithm: 0.159\\;Seconds\n",
    "$$\n",
    "$$\n",
    "126\\; Times \\; Faster!\n",
    "$$"
   ]
  },
  {
   "cell_type": "markdown",
   "metadata": {},
   "source": [
    "## Rounding Out the Analysis and Extensions\n",
    "\n",
    "Let's calculate and output the actual ILFs to make our analysis complete. Using the Basic Limits Loss of 100,000 the ILFs can be found via a few lines of code:"
   ]
  },
  {
   "cell_type": "code",
   "execution_count": 12,
   "metadata": {},
   "outputs": [
    {
     "name": "stdout",
     "output_type": "stream",
     "text": [
      "     Limit            LAS       ILF\n",
      "0   100000   77889.543244  1.000000\n",
      "1   200000  110010.325794  1.412389\n",
      "2   300000  123958.230950  1.591462\n",
      "3   400000  130830.905407  1.679698\n",
      "4   500000  134527.219146  1.727154\n",
      "5   600000  136688.080328  1.754896\n",
      "6   700000  138034.149359  1.772178\n",
      "7   800000  138884.671459  1.783098\n",
      "8   900000  139442.347283  1.790258\n",
      "9  1000000  139824.795605  1.795168\n"
     ]
    }
   ],
   "source": [
    "quickdf[\"ILF\"] = quickdf[\"LAS\"]/(quick_ll[100000])\n",
    "\n",
    "print(quickdf)                    "
   ]
  },
  {
   "cell_type": "markdown",
   "metadata": {},
   "source": [
    "Easy!\n",
    "\n",
    "Now, our Efficient Algorithm still has room for improvement. For example, can you think of a faster way to calculate the numerator of the LAS? Do we actually need to fill out the rest of `temp` with $L$? Leave me a comment and let me know what other ways you can think to improve the algorithm."
   ]
  }
 ],
 "metadata": {
  "kernelspec": {
   "display_name": "Python 3",
   "language": "python",
   "name": "python3"
  },
  "language_info": {
   "codemirror_mode": {
    "name": "ipython",
    "version": 3
   },
   "file_extension": ".py",
   "mimetype": "text/x-python",
   "name": "python",
   "nbconvert_exporter": "python",
   "pygments_lexer": "ipython3",
   "version": "3.8.2"
  }
 },
 "nbformat": 4,
 "nbformat_minor": 1
}